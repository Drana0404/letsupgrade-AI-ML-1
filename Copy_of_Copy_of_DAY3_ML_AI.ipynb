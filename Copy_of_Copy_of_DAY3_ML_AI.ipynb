{
  "nbformat": 4,
  "nbformat_minor": 0,
  "metadata": {
    "colab": {
      "name": "Copy of Copy of DAY3 ML AI.ipynb",
      "provenance": [],
      "collapsed_sections": []
    },
    "kernelspec": {
      "name": "python3",
      "display_name": "Python 3"
    }
  },
  "cells": [
    {
      "cell_type": "code",
      "metadata": {
        "id": "BBuRAjO9EU9Q",
        "colab_type": "code",
        "colab": {}
      },
      "source": [
        ""
      ],
      "execution_count": null,
      "outputs": []
    },
    {
      "cell_type": "markdown",
      "metadata": {
        "id": "CJt_9fpkEgB0",
        "colab_type": "text"
      },
      "source": [
        "Program to subtract complex numbers in **python**"
      ]
    },
    {
      "cell_type": "code",
      "metadata": {
        "id": "HYIFf_QiEyG_",
        "colab_type": "code",
        "colab": {
          "base_uri": "https://localhost:8080/",
          "height": 34
        },
        "outputId": "1e54a5b6-dbf6-48dc-dc73-8904a07427b7"
      },
      "source": [
        "a=3+7j\n",
        "b=1+14j\n",
        "print(\"Subtraction of two complex number= \",a-b)"
      ],
      "execution_count": null,
      "outputs": [
        {
          "output_type": "stream",
          "text": [
            "Subtraction of two complex number=  (2-7j)\n"
          ],
          "name": "stdout"
        }
      ]
    },
    {
      "cell_type": "markdown",
      "metadata": {
        "id": "ytt3TnTfGubA",
        "colab_type": "text"
      },
      "source": [
        "program to find the fourth root of a number"
      ]
    },
    {
      "cell_type": "code",
      "metadata": {
        "id": "O8V956O5G-xy",
        "colab_type": "code",
        "colab": {
          "base_uri": "https://localhost:8080/",
          "height": 34
        },
        "outputId": "978198e6-19be-4d64-98e4-048ed49729d9"
      },
      "source": [
        "a=256\n",
        "b=a**(1/4)\n",
        "print(b)"
      ],
      "execution_count": null,
      "outputs": [
        {
          "output_type": "stream",
          "text": [
            "4.0\n"
          ],
          "name": "stdout"
        }
      ]
    },
    {
      "cell_type": "markdown",
      "metadata": {
        "id": "qtxpwdCqKCaC",
        "colab_type": "text"
      },
      "source": [
        "program to swap two numbers in python with the help of temporary variable "
      ]
    },
    {
      "cell_type": "code",
      "metadata": {
        "id": "DxYacEoKKvgd",
        "colab_type": "code",
        "colab": {
          "base_uri": "https://localhost:8080/",
          "height": 51
        },
        "outputId": "22dd25b5-59a3-433b-f1e8-5d32d16f3754"
      },
      "source": [
        "n1=3\n",
        "n2=5\n",
        "temp=n1\n",
        "n1=n2\n",
        "n2=temp\n",
        "print(\"value of n1 after swapping =\",n1)\n",
        "print(\"value of n2 after swaping=\",n2 )"
      ],
      "execution_count": null,
      "outputs": [
        {
          "output_type": "stream",
          "text": [
            "value of n1 after swapping = 5\n",
            "value of n2 after swaping= 3\n"
          ],
          "name": "stdout"
        }
      ]
    },
    {
      "cell_type": "markdown",
      "metadata": {
        "id": "_YY8FpeQL65x",
        "colab_type": "text"
      },
      "source": [
        "program to swap two numbers without using temporary variable "
      ]
    },
    {
      "cell_type": "code",
      "metadata": {
        "id": "V0Ifx_FvMEw1",
        "colab_type": "code",
        "colab": {
          "base_uri": "https://localhost:8080/",
          "height": 51
        },
        "outputId": "e00e3ce4-deaa-4c02-921f-5f3faab9cd4b"
      },
      "source": [
        "n1=3\n",
        "n2=5\n",
        "n1,n2=n2,n1\n",
        "print(\"value of n1 after swapping =\",n1)\n",
        "print(\"value of n2 after swapping =\",n2)"
      ],
      "execution_count": null,
      "outputs": [
        {
          "output_type": "stream",
          "text": [
            "value of n1 after swapping = 5\n",
            "value of n2 after swapping = 3\n"
          ],
          "name": "stdout"
        }
      ]
    },
    {
      "cell_type": "markdown",
      "metadata": {
        "id": "jmn8bs8EMiHr",
        "colab_type": "text"
      },
      "source": [
        "program to convert Fahrenheit to Celsius and kelvin both"
      ]
    },
    {
      "cell_type": "code",
      "metadata": {
        "id": "sSgTOFofOuvu",
        "colab_type": "code",
        "colab": {
          "base_uri": "https://localhost:8080/",
          "height": 51
        },
        "outputId": "8c0190bc-b9fa-4ab1-ab3a-b3a6767d59cf"
      },
      "source": [
        "Fahrenheit=99\n",
        "Celsius=(Fahrenheit-32)*5/9\n",
        "kelvin=273.5+Celsius\n",
        "print(Celsius)\n",
        "print(kelvin)"
      ],
      "execution_count": null,
      "outputs": [
        {
          "output_type": "stream",
          "text": [
            "37.22222222222222\n",
            "310.72222222222223\n"
          ],
          "name": "stdout"
        }
      ]
    },
    {
      "cell_type": "markdown",
      "metadata": {
        "id": "3KZldAmGQC-d",
        "colab_type": "text"
      },
      "source": [
        "program to demonstrate all the available datatypesdatatypes in python using type() function"
      ]
    },
    {
      "cell_type": "code",
      "metadata": {
        "id": "NH53IpNAQf7m",
        "colab_type": "code",
        "colab": {
          "base_uri": "https://localhost:8080/",
          "height": 121
        },
        "outputId": "82140c93-6e43-455b-993d-7967191f185b"
      },
      "source": [
        "a=5\n",
        "print(\"type of a:\",type(a))\n",
        "b=5.0\n",
        "print(\"\\ntype of b:\",type(b))\n",
        "c=2+4j\n",
        "print(\"\\ntype of c: \",type(c))\n",
        "string1=\"Hello\"\n",
        "print(string1)\n"
      ],
      "execution_count": null,
      "outputs": [
        {
          "output_type": "stream",
          "text": [
            "type of a: <class 'int'>\n",
            "\n",
            "type of b: <class 'float'>\n",
            "\n",
            "type of c:  <class 'complex'>\n",
            "Hello\n"
          ],
          "name": "stdout"
        }
      ]
    },
    {
      "cell_type": "markdown",
      "metadata": {
        "id": "Kv49pkNuSkUX",
        "colab_type": "text"
      },
      "source": [
        "steps to upload file in github\n",
        "\n",
        "\n",
        "1.   create github profile\n",
        "2.  go to repository and give repository name as letsupgrade AI ML\n",
        "3. set repository as public\n",
        "and create\n",
        "4. upload the exsiting file from computer and submia\n",
        "5. copy the github link and paste in assignmnet link"
      ]
    },
    {
      "cell_type": "code",
      "metadata": {
        "id": "Li4tTzA0T_v2",
        "colab_type": "code",
        "colab": {}
      },
      "source": [
        ""
      ],
      "execution_count": null,
      "outputs": []
    }
  ]
}