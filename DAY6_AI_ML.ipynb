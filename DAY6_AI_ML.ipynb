{
  "nbformat": 4,
  "nbformat_minor": 0,
  "metadata": {
    "colab": {
      "name": "DAY6 AI ML.ipynb",
      "provenance": []
    },
    "kernelspec": {
      "name": "python3",
      "display_name": "Python 3"
    }
  },
  "cells": [
    {
      "cell_type": "markdown",
      "metadata": {
        "id": "F88hA0Mj8sYn",
        "colab_type": "text"
      },
      "source": [
        "Q1.Program to print company name of a given emailemail "
      ]
    },
    {
      "cell_type": "code",
      "metadata": {
        "id": "yQnWhPcfCT0z",
        "colab_type": "code",
        "colab": {
          "base_uri": "https://localhost:8080/",
          "height": 34
        },
        "outputId": "fc349c9c-0796-4204-c899-1dcd54cbe92a"
      },
      "source": [
        "import re\n",
        "variable =re.findall(r\"@\\w+\",\"john@google.com\")\n",
        "print(variable)"
      ],
      "execution_count": 26,
      "outputs": [
        {
          "output_type": "stream",
          "text": [
            "['@google']\n"
          ],
          "name": "stdout"
        }
      ]
    },
    {
      "cell_type": "markdown",
      "metadata": {
        "id": "llyiupMOIZDI",
        "colab_type": "text"
      },
      "source": [
        "Q2."
      ]
    },
    {
      "cell_type": "code",
      "metadata": {
        "id": "AuahJyczM66c",
        "colab_type": "code",
        "colab": {
          "base_uri": "https://localhost:8080/",
          "height": 51
        },
        "outputId": "a935a6ad-e194-4285-d5b3-1d0e9a85fe3c"
      },
      "source": [
        "items=input(\"Input comma separated sequence of words\")\n",
        "words=[word for word in items.split(\",\")]\n",
        "print(\",\".join(sorted(list(set(words)))))"
      ],
      "execution_count": 34,
      "outputs": [
        {
          "output_type": "stream",
          "text": [
            "Input comma separated sequence of wordsred,black,pink,yellow\n",
            "black,pink,red,yellow\n"
          ],
          "name": "stdout"
        }
      ]
    },
    {
      "cell_type": "markdown",
      "metadata": {
        "id": "FM0v5BOfPmdR",
        "colab_type": "text"
      },
      "source": [
        ""
      ]
    },
    {
      "cell_type": "code",
      "metadata": {
        "id": "XP6v0GFmUxnH",
        "colab_type": "code",
        "colab": {
          "base_uri": "https://localhost:8080/",
          "height": 34
        },
        "outputId": "3d38b4a4-34a4-493d-d044-bcd6366dbc0b"
      },
      "source": [
        "def missing(lst):\n",
        "  return [x for x in range (lst[0],lst[-1]+1) if x not in lst]\n",
        "lst=[1,2,4,5,7,9]\n",
        "print(missing(lst))"
      ],
      "execution_count": 42,
      "outputs": [
        {
          "output_type": "stream",
          "text": [
            "[3, 6, 8]\n"
          ],
          "name": "stdout"
        }
      ]
    },
    {
      "cell_type": "markdown",
      "metadata": {
        "id": "M4He8yyRXVO_",
        "colab_type": "text"
      },
      "source": [
        "Q5"
      ]
    },
    {
      "cell_type": "code",
      "metadata": {
        "id": "Od8PbF1XXYpK",
        "colab_type": "code",
        "colab": {
          "base_uri": "https://localhost:8080/",
          "height": 34
        },
        "outputId": "aaacca0a-37db-472d-90eb-e0c1ad255105"
      },
      "source": [
        "mylist=[12,24,35,24]\n",
        "mylist=list(dict.fromkeys(mylist))\n",
        "print(mylist)"
      ],
      "execution_count": 43,
      "outputs": [
        {
          "output_type": "stream",
          "text": [
            "[12, 24, 35]\n"
          ],
          "name": "stdout"
        }
      ]
    }
  ]
}