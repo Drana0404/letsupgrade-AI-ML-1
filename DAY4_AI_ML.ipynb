{
  "nbformat": 4,
  "nbformat_minor": 0,
  "metadata": {
    "colab": {
      "name": "DAY4 AI ML.ipynb",
      "provenance": [],
      "authorship_tag": "ABX9TyM9IBpGumOerHsIViUMTuPr",
      "include_colab_link": true
    },
    "kernelspec": {
      "name": "python3",
      "display_name": "Python 3"
    }
  },
  "cells": [
    {
      "cell_type": "markdown",
      "metadata": {
        "id": "view-in-github",
        "colab_type": "text"
      },
      "source": [
        "<a href=\"https://colab.research.google.com/github/hariprasad1198/letsupgrade-AI-ML/blob/master/DAY4_AI_ML.ipynb\" target=\"_parent\"><img src=\"https://colab.research.google.com/assets/colab-badge.svg\" alt=\"Open In Colab\"/></a>"
      ]
    },
    {
      "cell_type": "markdown",
      "metadata": {
        "id": "UduWS-j7CHyx",
        "colab_type": "text"
      },
      "source": [
        "Q1.Program to perform additon,subtraction,multiplication,division,floor division,modulo division on complex numbers"
      ]
    },
    {
      "cell_type": "code",
      "metadata": {
        "id": "MyFUKnJVCt3y",
        "colab_type": "code",
        "colab": {
          "base_uri": "https://localhost:8080/",
          "height": 86
        },
        "outputId": "7f5b9070-c2b5-48d1-ef78-6c232c6fc9f3"
      },
      "source": [
        "print(\"Addition of two complex numbers:\",(4+3j)+(3+7j))\n",
        "print(\"Subtraction of two complex numbers:\",(4+3j)-(3+7j))\n",
        "print(\"multiplication of two complex numbers:\",(4+3j)*(3+7j))\n",
        "print(\"Division of two complex numbers:\",(4+3j)/(3+7j))"
      ],
      "execution_count": 4,
      "outputs": [
        {
          "output_type": "stream",
          "text": [
            "Addition of two complex numbers: (7+10j)\n",
            "Subtraction of two complex numbers: (1-4j)\n",
            "multiplication of two complex numbers: (-9+37j)\n",
            "Division of two complex numbers: (0.5689655172413794-0.32758620689655177j)\n"
          ],
          "name": "stdout"
        }
      ]
    },
    {
      "cell_type": "markdown",
      "metadata": {
        "id": "lQ1Q2c_THLF6",
        "colab_type": "text"
      },
      "source": [
        "cannot perform floor division and modulomodulo division on complex numbers"
      ]
    },
    {
      "cell_type": "markdown",
      "metadata": {
        "id": "9FoKBOCcHWay",
        "colab_type": "text"
      },
      "source": [
        "Q2.Range function and example\n",
        "\n",
        "In python,the range() method returns an immutable sequence of numbers.it can be used to control the repetition of block for loop\n",
        " range([start],stop,[step])\n",
        " All the parameters should be integers. The sequence starts with 0 by default,unless the start paramter is provided. The only mandatory parameter for the above function is stop. The last number in the sequence is the number before stop.The number in between are incremenented with the stop value w which is 1 by default."
      ]
    },
    {
      "cell_type": "code",
      "metadata": {
        "id": "GYLw1l6iLlrR",
        "colab_type": "code",
        "colab": {
          "base_uri": "https://localhost:8080/",
          "height": 103
        },
        "outputId": "a60ab6f3-7b8a-4b96-df3e-35b73f10855b"
      },
      "source": [
        "x=range(5)\n",
        "for num in x:\n",
        " print(num)"
      ],
      "execution_count": 7,
      "outputs": [
        {
          "output_type": "stream",
          "text": [
            "0\n",
            "1\n",
            "2\n",
            "3\n",
            "4\n"
          ],
          "name": "stdout"
        }
      ]
    },
    {
      "cell_type": "markdown",
      "metadata": {
        "id": "vZMV5L71L4C_",
        "colab_type": "text"
      },
      "source": [
        "Q3. "
      ]
    },
    {
      "cell_type": "code",
      "metadata": {
        "id": "g5YuAYDsM89R",
        "colab_type": "code",
        "colab": {
          "base_uri": "https://localhost:8080/",
          "height": 34
        },
        "outputId": "7d2bcc63-bebb-4dc4-d459-59fb51d3cc7c"
      },
      "source": [
        "a=80\n",
        "b=50\n",
        "c=a-b\n",
        "if c>25:\n",
        "  print(\"Mutliplication=\",a*b)\n",
        "else:\n",
        "  print(\"Division=\",a/b)"
      ],
      "execution_count": 8,
      "outputs": [
        {
          "output_type": "stream",
          "text": [
            "Mutliplication= 4000\n"
          ],
          "name": "stdout"
        }
      ]
    },
    {
      "cell_type": "markdown",
      "metadata": {
        "id": "dgWqWZlANa3Y",
        "colab_type": "text"
      },
      "source": [
        "Q4."
      ]
    },
    {
      "cell_type": "code",
      "metadata": {
        "id": "yv9gXnz8Nd2M",
        "colab_type": "code",
        "colab": {
          "base_uri": "https://localhost:8080/",
          "height": 747
        },
        "outputId": "eb9020c5-bc93-46c9-edfb-c7f09007ff98"
      },
      "source": [
        "l=[1,2,3,4,5,6,7,8,9,10]\n",
        "for i in l:\n",
        "  if i%2==0:\n",
        "    print(\"square of that number minus 2 \")\n",
        "  else:\n",
        "    print(\"number is not divisible by 2\")"
      ],
      "execution_count": 10,
      "outputs": [
        {
          "output_type": "stream",
          "text": [
            "number is not divisible by 2\n",
            "square of that number minus 2 \n",
            "number is not divisible by 2\n",
            "square of that number minus 2 \n",
            "number is not divisible by 2\n",
            "square of that number minus 2 \n",
            "number is not divisible by 2\n",
            "square of that number minus 2 \n",
            "number is not divisible by 2\n",
            "square of that number minus 2 \n"
          ],
          "name": "stdout"
        }
      ]
    },
    {
      "cell_type": "markdown",
      "metadata": {
        "id": "dbcrCuASQEXQ",
        "colab_type": "text"
      },
      "source": [
        "Q5."
      ]
    },
    {
      "cell_type": "code",
      "metadata": {
        "id": "tt4bI9DhQHfD",
        "colab_type": "code",
        "colab": {
          "base_uri": "https://localhost:8080/",
          "height": 747
        },
        "outputId": "62dec8cf-c0e3-4a95-a2a7-6f04219c97e7"
      },
      "source": [
        "l=[1,34,5,56,4,78,9,97,80,53]\n",
        "for i in l:\n",
        "   if i>7 and i%2==0:\n",
        "     print(i)\n",
        "   else:\n",
        "    print(\"number is neither greater than 7 nor divisble by 2\")"
      ],
      "execution_count": 13,
      "outputs": [
        {
          "output_type": "stream",
          "text": [
            "number is neither greater than 7 nor divisble by 2\n",
            "34\n",
            "number is neither greater than 7 nor divisble by 2\n",
            "56\n",
            "number is neither greater than 7 nor divisble by 2\n",
            "78\n",
            "number is neither greater than 7 nor divisble by 2\n",
            "number is neither greater than 7 nor divisble by 2\n",
            "80\n",
            "number is neither greater than 7 nor divisble by 2\n"
          ],
          "name": "stdout"
        }
      ]
    }
  ]
}