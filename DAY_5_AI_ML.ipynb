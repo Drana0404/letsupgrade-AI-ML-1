{
  "nbformat": 4,
  "nbformat_minor": 0,
  "metadata": {
    "colab": {
      "name": "DAY 5 AI ML.ipynb",
      "provenance": [],
      "authorship_tag": "ABX9TyMBl2TZEIuBYlKmiiHrOXGq",
      "include_colab_link": true
    },
    "kernelspec": {
      "name": "python3",
      "display_name": "Python 3"
    }
  },
  "cells": [
    {
      "cell_type": "markdown",
      "metadata": {
        "id": "view-in-github",
        "colab_type": "text"
      },
      "source": [
        "<a href=\"https://colab.research.google.com/github/hariprasad1198/letsupgrade-AI-ML/blob/master/DAY_5_AI_ML.ipynb\" target=\"_parent\"><img src=\"https://colab.research.google.com/assets/colab-badge.svg\" alt=\"Open In Colab\"/></a>"
      ]
    },
    {
      "cell_type": "markdown",
      "metadata": {
        "id": "-4jufHJN0yoY",
        "colab_type": "text"
      },
      "source": [
        "Q1\n",
        "Python program to find the first 20 non even prime natural "
      ]
    },
    {
      "cell_type": "code",
      "metadata": {
        "id": "VyvU5nPC2ur5",
        "colab_type": "code",
        "colab": {
          "base_uri": "https://localhost:8080/",
          "height": 138
        },
        "outputId": "ee81acf8-07f6-49cb-e83c-82e50d3747e0"
      },
      "source": [
        "start =3\n",
        "end= 20\n",
        "for val in range(start,end+1):\n",
        "    if val>1:\n",
        "      for n in range(2,val//2+2):\n",
        "         if(val%n)==0:\n",
        "           break\n",
        "         else:\n",
        "            if n==val//2+1:\n",
        "              print(val)"
      ],
      "execution_count": 5,
      "outputs": [
        {
          "output_type": "stream",
          "text": [
            "3\n",
            "5\n",
            "7\n",
            "11\n",
            "13\n",
            "17\n",
            "19\n"
          ],
          "name": "stdout"
        }
      ]
    },
    {
      "cell_type": "markdown",
      "metadata": {
        "id": "vLFpI-w4351_",
        "colab_type": "text"
      },
      "source": [
        "Q2.\n",
        "Python program to implement 15 functions of string functions"
      ]
    },
    {
      "cell_type": "code",
      "metadata": {
        "id": "rMe3UaED7Ckl",
        "colab_type": "code",
        "colab": {
          "base_uri": "https://localhost:8080/",
          "height": 259
        },
        "outputId": "7f7b7f95-51ca-468d-8e50-8aeb36f56c66"
      },
      "source": [
        "string=\"Hey buddy,wassup?\"\n",
        "print(string[:2])\n",
        "print(string.split()[0])\n",
        "print(str.lower(string))\n",
        "print(str.upper(string))\n",
        "print(str.isalnum(string))\n",
        "print(str.islower(string))\n",
        "print(str.isupper(string))\n",
        "print(str.isnumeric(string))\n",
        "print(str.isspace(string))\n",
        "print(len(string))\n",
        "print(string[2:6])\n",
        "print(string*2)\n",
        "print(type(string))\n",
        "print(format(string))"
      ],
      "execution_count": 23,
      "outputs": [
        {
          "output_type": "stream",
          "text": [
            "He\n",
            "Hey\n",
            "hey buddy,wassup?\n",
            "HEY BUDDY,WASSUP?\n",
            "False\n",
            "False\n",
            "False\n",
            "False\n",
            "False\n",
            "17\n",
            "y bu\n",
            "Hey buddy,wassup?Hey buddy,wassup?\n",
            "<class 'str'>\n",
            "Hey buddy,wassup?\n"
          ],
          "name": "stdout"
        }
      ]
    },
    {
      "cell_type": "markdown",
      "metadata": {
        "id": "g89S_4CLAC32",
        "colab_type": "text"
      },
      "source": [
        "Q3.\n",
        "python program to check if the given string is pthemdrome or anagram or none of them"
      ]
    },
    {
      "cell_type": "code",
      "metadata": {
        "id": "bdD53UbbAf0B",
        "colab_type": "code",
        "colab": {
          "base_uri": "https://localhost:8080/",
          "height": 69
        },
        "outputId": "a02eda36-579e-4284-dc79-c64c1944bc94"
      },
      "source": [
        "s1=input(\"enter the first string: \")\n",
        "s2=input(\"enter the second string: \")\n",
        "if(s1==s1[::-1]):\n",
        "       print(\"S1 is palindrome\")\n",
        "elif (sorted(s1)==sorted(s2)):\n",
        "     print(\"s1 and s2 are not anagrams\")\n",
        "else:\n",
        "    print(\"S1 and s2 are neither palindrome nor anagram  \")\n"
      ],
      "execution_count": 30,
      "outputs": [
        {
          "output_type": "stream",
          "text": [
            "enter the first string: malayalam\n",
            "enter the second string: triangle\n",
            "S1 is palindrome\n"
          ],
          "name": "stdout"
        }
      ]
    },
    {
      "cell_type": "markdown",
      "metadata": {
        "id": "EsUDY4yiG3IS",
        "colab_type": "text"
      },
      "source": [
        "Q4.Python user defined function to remove all character in as string and convert into lowercase letters\n"
      ]
    },
    {
      "cell_type": "code",
      "metadata": {
        "id": "LvlPstESHYFN",
        "colab_type": "code",
        "colab": {
          "base_uri": "https://localhost:8080/",
          "height": 35
        },
        "outputId": "3c68df03-954d-4c10-dc2c-b2a80960546d"
      },
      "source": [
        "s1=\"E.Hari Prasad\"\n",
        "''.join(e for e in s1 if e.isalnum())\n"
      ],
      "execution_count": 45,
      "outputs": [
        {
          "output_type": "execute_result",
          "data": {
            "application/vnd.google.colaboratory.intrinsic": {
              "type": "string"
            },
            "text/plain": [
              "'EHariPrasad'"
            ]
          },
          "metadata": {
            "tags": []
          },
          "execution_count": 45
        }
      ]
    }
  ]
}